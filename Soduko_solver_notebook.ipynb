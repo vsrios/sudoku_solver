{
 "cells": [
  {
   "cell_type": "code",
   "execution_count": 9,
   "metadata": {},
   "outputs": [],
   "source": [
    "from sudoku_solver import *"
   ]
  },
  {
   "cell_type": "code",
   "execution_count": 1,
   "metadata": {},
   "outputs": [],
   "source": [
    "\n",
    "SDK[0,1] = 2\n",
    "SDK[0,4] = 3\n",
    "SDK[0,7] = 4\n",
    "SDK[1,0] = 6\n",
    "SDK[1,8] = 3\n",
    "SDK[2,2] = 4\n",
    "SDK[2,6] = 5\n",
    "SDK[3,3] = 8\n",
    "SDK[3,5] = 6\n",
    "SDK[4,0] = 8\n",
    "SDK[4,4] = 1\n",
    "SDK[4,8] = 6\n",
    "SDK[5,3] = 7\n",
    "SDK[5,5] = 5\n",
    "SDK[6,2] = 7\n",
    "SDK[6,6] = 6\n",
    "SDK[7,0] = 4\n",
    "SDK[7,8] = 8\n",
    "SDK[8,1] = 3\n",
    "SDK[8,4] = 4\n",
    "SDK[8,7] = 2\n",
    "\n",
    "position_value"
   ]
  },
  {
   "cell_type": "code",
   "execution_count": 7,
   "metadata": {},
   "outputs": [
    {
     "data": {
      "text/plain": [
       "numpy.ndarray"
      ]
     },
     "execution_count": 7,
     "metadata": {},
     "output_type": "execute_result"
    }
   ],
   "source": [
    "type(np.kron(np.ones((3,3)),np.zeros((3,3))))"
   ]
  },
  {
   "cell_type": "code",
   "execution_count": 8,
   "metadata": {},
   "outputs": [
    {
     "data": {
      "text/plain": [
       "(9, 9)"
      ]
     },
     "execution_count": 8,
     "metadata": {},
     "output_type": "execute_result"
    }
   ],
   "source": [
    "np.kron(np.ones((3,3)),np.zeros((3,3))).shape"
   ]
  }
 ],
 "metadata": {
  "kernelspec": {
   "display_name": "Python 3.9.7 ('base')",
   "language": "python",
   "name": "python3"
  },
  "language_info": {
   "codemirror_mode": {
    "name": "ipython",
    "version": 3
   },
   "file_extension": ".py",
   "mimetype": "text/x-python",
   "name": "python",
   "nbconvert_exporter": "python",
   "pygments_lexer": "ipython3",
   "version": "3.9.7"
  },
  "orig_nbformat": 4,
  "vscode": {
   "interpreter": {
    "hash": "ad2bdc8ecc057115af97d19610ffacc2b4e99fae6737bb82f5d7fb13d2f2c186"
   }
  }
 },
 "nbformat": 4,
 "nbformat_minor": 2
}
